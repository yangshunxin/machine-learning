{
 "cells": [
  {
   "cell_type": "code",
   "execution_count": 1,
   "metadata": {},
   "outputs": [],
   "source": [
    "import matplotlib.pyplot as plt\n",
    "import matplotlib as mpl\n",
    "\n",
    "from sklearn.externals.six.moves import zip\n",
    "from sklearn.datasets import make_gaussian_quantiles\n",
    "from sklearn.ensemble import AdaBoostClassifier\n",
    "from sklearn.tree import DecisionTreeClassifier"
   ]
  },
  {
   "cell_type": "code",
   "execution_count": 2,
   "metadata": {},
   "outputs": [],
   "source": [
    "## 设置属性防止中文乱码\n",
    "mpl.rcParams['font.sans-serif'] = [u'SimHei']\n",
    "mpl.rcParams['axes.unicode_minus'] = False"
   ]
  },
  {
   "cell_type": "code",
   "execution_count": 8,
   "metadata": {},
   "outputs": [],
   "source": [
    "## 创建模拟数据\n",
    "X, y = make_gaussian_quantiles(n_samples=13000, n_features=10,\n",
    "                               n_classes=3, random_state=1)\n",
    "n_split = 3000\n",
    "\n",
    "X_train, X_test = X[:n_split], X[n_split:]\n",
    "y_train, y_test = y[:n_split], y[n_split:]"
   ]
  },
  {
   "cell_type": "code",
   "execution_count": 9,
   "metadata": {},
   "outputs": [
    {
     "data": {
      "text/plain": [
       "AdaBoostClassifier(algorithm='SAMME',\n",
       "          base_estimator=DecisionTreeClassifier(class_weight=None, criterion='gini', max_depth=2,\n",
       "            max_features=None, max_leaf_nodes=None,\n",
       "            min_impurity_decrease=0.0, min_impurity_split=None,\n",
       "            min_samples_leaf=1, min_samples_split=2,\n",
       "            min_weight_fraction_leaf=0.0, presort=False, random_state=None,\n",
       "            splitter='best'),\n",
       "          learning_rate=1, n_estimators=600, random_state=None)"
      ]
     },
     "execution_count": 9,
     "metadata": {},
     "output_type": "execute_result"
    }
   ],
   "source": [
    "#建立两个模型，algorithm算法不同，bdt_real选择的是samme.r\n",
    "bdt_real = AdaBoostClassifier(\n",
    "    DecisionTreeClassifier(max_depth=2),\n",
    "    n_estimators=600,\n",
    "    learning_rate=1)\n",
    "\n",
    "bdt_discrete = AdaBoostClassifier(\n",
    "    DecisionTreeClassifier(max_depth=2),\n",
    "    n_estimators=600,\n",
    "    learning_rate=1,\n",
    "    algorithm=\"SAMME\")\n",
    "\n",
    "bdt_real.fit(X_train, y_train)\n",
    "bdt_discrete.fit(X_train, y_train)"
   ]
  },
  {
   "cell_type": "code",
   "execution_count": 11,
   "metadata": {},
   "outputs": [
    {
     "ename": "NameError",
     "evalue": "name 'accuracy_score' is not defined",
     "output_type": "error",
     "traceback": [
      "\u001b[1;31m---------------------------------------------------------------------------\u001b[0m",
      "\u001b[1;31mNameError\u001b[0m                                 Traceback (most recent call last)",
      "\u001b[1;32m<ipython-input-11-b2b03e8d0e8e>\u001b[0m in \u001b[0;36m<module>\u001b[1;34m()\u001b[0m\n\u001b[0;32m      7\u001b[0m         bdt_real.staged_predict(X_test), bdt_discrete.staged_predict(X_test)):\n\u001b[0;32m      8\u001b[0m     real_test_errors.append(\n\u001b[1;32m----> 9\u001b[1;33m         1 - accuracy_score(real_test_predict, y_test))\n\u001b[0m\u001b[0;32m     10\u001b[0m     discrete_test_errors.append(\n\u001b[0;32m     11\u001b[0m         1 - accuracy_score(discrete_train_predict, y_test))\n",
      "\u001b[1;31mNameError\u001b[0m: name 'accuracy_score' is not defined"
     ]
    }
   ],
   "source": [
    "#获得预测的准确率，accuracy_score，是单个分类器的准确率。\n",
    "#预测的误差率estimator_errors_\n",
    "real_test_errors = []#第一个模型每一个分类器的误差率\n",
    "discrete_test_errors = []#第二个模型每一个分类器的误差率\n",
    "\n",
    "for real_test_predict, discrete_train_predict in zip(\n",
    "        bdt_real.staged_predict(X_test), bdt_discrete.staged_predict(X_test)):\n",
    "    real_test_errors.append(\n",
    "        1 - accuracy_score(real_test_predict, y_test))\n",
    "    discrete_test_errors.append(\n",
    "        1 - accuracy_score(discrete_train_predict, y_test))\n",
    "\n",
    "n_trees_discrete = len(bdt_discrete)\n",
    "n_trees_real = len(bdt_real)\n",
    "\n",
    "discrete_estimator_errors = bdt_discrete.estimator_errors_[:n_trees_discrete]\n",
    "real_estimator_errors = bdt_real.estimator_errors_[:n_trees_real]\n",
    "discrete_estimator_weights = bdt_discrete.estimator_weights_[:n_trees_discrete]#获得权重"
   ]
  },
  {
   "cell_type": "code",
   "execution_count": null,
   "metadata": {},
   "outputs": [],
   "source": []
  }
 ],
 "metadata": {
  "kernelspec": {
   "display_name": "Python 3",
   "language": "python",
   "name": "python3"
  },
  "language_info": {
   "codemirror_mode": {
    "name": "ipython",
    "version": 3
   },
   "file_extension": ".py",
   "mimetype": "text/x-python",
   "name": "python",
   "nbconvert_exporter": "python",
   "pygments_lexer": "ipython3",
   "version": "3.6.0"
  }
 },
 "nbformat": 4,
 "nbformat_minor": 2
}
