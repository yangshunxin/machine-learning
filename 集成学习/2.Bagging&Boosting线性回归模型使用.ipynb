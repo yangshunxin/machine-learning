{
 "cells": [
  {
   "cell_type": "code",
   "execution_count": 1,
   "metadata": {},
   "outputs": [
    {
     "name": "stderr",
     "output_type": "stream",
     "text": [
      "c:\\python_3.6.0\\lib\\site-packages\\sklearn\\cross_validation.py:41: DeprecationWarning: This module was deprecated in version 0.18 in favor of the model_selection module into which all the refactored classes and functions are moved. Also note that the interface of the new CV iterators are different from that of this module. This module will be removed in 0.20.\n",
      "  \"This module will be removed in 0.20.\", DeprecationWarning)\n"
     ]
    }
   ],
   "source": [
    "import numpy as np\n",
    "import matplotlib as mpl\n",
    "import matplotlib.pyplot as plt\n",
    "import pandas as pd\n",
    "import warnings\n",
    "import sklearn\n",
    "from sklearn.linear_model import LinearRegression\n",
    "from sklearn.cross_validation import train_test_split\n",
    "from sklearn.ensemble import BaggingRegressor"
   ]
  },
  {
   "cell_type": "code",
   "execution_count": 2,
   "metadata": {},
   "outputs": [],
   "source": [
    "def notEmpty(s):\n",
    "    return s != ''"
   ]
  },
  {
   "cell_type": "code",
   "execution_count": 3,
   "metadata": {},
   "outputs": [],
   "source": [
    "mpl.rcParams['font.sans-serif']=[u'simHei']\n",
    "mpl.rcParams['axes.unicode_minus']=False"
   ]
  },
  {
   "cell_type": "code",
   "execution_count": 4,
   "metadata": {},
   "outputs": [
    {
     "name": "stdout",
     "output_type": "stream",
     "text": [
      "样本数据量:506, 特征个数：13\n",
      "target样本数据量:506\n"
     ]
    }
   ],
   "source": [
    "names = ['CRIM','ZN', 'INDUS','CHAS','NOX','RM','AGE','DIS','RAD','TAX','PTRATIO','B','LSTAT']\n",
    "path = \"datas/boston_housing.data\"\n",
    "## 由于数据文件格式不统一，所以读取的时候，先按照一行一个字段属性读取数据，然后再按照每行数据进行处理\n",
    "fd = pd.read_csv(path, header=None)\n",
    "data = np.empty((len(fd), 14))\n",
    "for i, d in enumerate(fd.values):\n",
    "    d = map(float, filter(notEmpty, d[0].split(' ')))\n",
    "    data[i] = list(d)\n",
    "\n",
    "x, y = np.split(data, (13,), axis=1)\n",
    "y = y.ravel()\n",
    "\n",
    "print (\"样本数据量:%d, 特征个数：%d\" % x.shape)\n",
    "print (\"target样本数据量:%d\" % y.shape[0])"
   ]
  },
  {
   "cell_type": "code",
   "execution_count": 5,
   "metadata": {},
   "outputs": [
    {
     "name": "stdout",
     "output_type": "stream",
     "text": [
      "训练数据集样本数目：404, 测试数据集样本数目：102\n"
     ]
    }
   ],
   "source": [
    "#数据的分割，\n",
    "x_train1, x_test1, y_train1, y_test1 = train_test_split(x, y, train_size=0.8, random_state=14)\n",
    "x_train, x_test, y_train, y_test = x_train1, x_test1, y_train1, y_test1\n",
    "print (\"训练数据集样本数目：%d, 测试数据集样本数目：%d\" % (x_train.shape[0], x_test.shape[0]))"
   ]
  },
  {
   "cell_type": "code",
   "execution_count": 6,
   "metadata": {},
   "outputs": [
    {
     "name": "stdout",
     "output_type": "stream",
     "text": [
      "lr: 0.6177265992293742\n"
     ]
    }
   ],
   "source": [
    "#构建线性回归\n",
    "lr = LinearRegression()\n",
    "lr.fit(x_train,y_train)\n",
    "lr_y_test_hat = lr.predict(x_test)\n",
    "lr_score = lr.score(x_test, y_test)\n",
    "print (\"lr:\", lr_score)"
   ]
  },
  {
   "cell_type": "code",
   "execution_count": 7,
   "metadata": {},
   "outputs": [
    {
     "name": "stdout",
     "output_type": "stream",
     "text": [
      "Bagging: 0.6274480726092534\n"
     ]
    }
   ],
   "source": [
    "# 构建一个Bagging的线性模型\n",
    "bg = BaggingRegressor(LinearRegression(), n_estimators=100, max_samples=0.7, max_features=0.8,random_state=28)\n",
    "bg.fit(x_train, y_train)\n",
    "bg_y_test_hat = bg.predict(x_test)\n",
    "bg_score = bg.score(x_test, y_test)\n",
    "print (\"Bagging:\", bg_score)"
   ]
  },
  {
   "cell_type": "code",
   "execution_count": 8,
   "metadata": {},
   "outputs": [
    {
     "name": "stdout",
     "output_type": "stream",
     "text": [
      "Bagging: 0.8668154381095832\n"
     ]
    }
   ],
   "source": [
    "# GBDT----准确率很高\n",
    "from sklearn.ensemble import GradientBoostingRegressor\n",
    "gbdt = GradientBoostingRegressor(n_estimators=50, learning_rate=0.1, random_state=28)\n",
    "gbdt.fit(x_train, y_train)\n",
    "gbdt_y_test_hat = gbdt.predict(x_test)\n",
    "gbdt_score = gbdt.score(x_test, y_test)\n",
    "print (\"Bagging:\", gbdt_score)"
   ]
  },
  {
   "cell_type": "code",
   "execution_count": null,
   "metadata": {},
   "outputs": [],
   "source": []
  }
 ],
 "metadata": {
  "kernelspec": {
   "display_name": "Python 3",
   "language": "python",
   "name": "python3"
  },
  "language_info": {
   "codemirror_mode": {
    "name": "ipython",
    "version": 3
   },
   "file_extension": ".py",
   "mimetype": "text/x-python",
   "name": "python",
   "nbconvert_exporter": "python",
   "pygments_lexer": "ipython3",
   "version": "3.6.0"
  }
 },
 "nbformat": 4,
 "nbformat_minor": 2
}
