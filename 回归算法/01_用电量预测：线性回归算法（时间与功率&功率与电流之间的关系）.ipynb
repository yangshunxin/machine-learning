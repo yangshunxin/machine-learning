{
 "cells": [
  {
   "cell_type": "code",
   "execution_count": 57,
   "metadata": {},
   "outputs": [],
   "source": [
    "#引入所需要的全部包\n",
    "from sklearn.model_selection import train_test_split\n",
    "from sklearn.linear_model import LinearRegression\n",
    "from sklearn.preprocessing import StandardScaler \n",
    "import numpy as np\n",
    "import matplotlib as mpl\n",
    "import matplotlib.pyplot as plt\n",
    "import pandas as pd\n",
    "from pandas import DataFrame\n",
    "import time"
   ]
  },
  {
   "cell_type": "code",
   "execution_count": 58,
   "metadata": {},
   "outputs": [],
   "source": [
    "##设置字符集，防止中文乱码\n",
    "mpl.rcParams['font.sans-serif']=[u'simHei']\n",
    "mpl.rcParams['axes.unicode_minus']=False"
   ]
  },
  {
   "cell_type": "code",
   "execution_count": 59,
   "metadata": {},
   "outputs": [],
   "source": [
    "#加载数据\n",
    "#日期，时间，有功功率，无功功率，电压，电流，厨房电功率，洗衣服用功率，热水器用功率\n",
    "path1='datas/household_power_consumption_1000.txt'\n",
    "df = pd.read_csv(path1, sep=';',low_memory=False)#没有混合类型的时候可以通过low_memory=False调用更多内存，加快效率"
   ]
  },
  {
   "cell_type": "code",
   "execution_count": 60,
   "metadata": {},
   "outputs": [
    {
     "data": {
      "text/html": [
       "<div>\n",
       "<style scoped>\n",
       "    .dataframe tbody tr th:only-of-type {\n",
       "        vertical-align: middle;\n",
       "    }\n",
       "\n",
       "    .dataframe tbody tr th {\n",
       "        vertical-align: top;\n",
       "    }\n",
       "\n",
       "    .dataframe thead th {\n",
       "        text-align: right;\n",
       "    }\n",
       "</style>\n",
       "<table border=\"1\" class=\"dataframe\">\n",
       "  <thead>\n",
       "    <tr style=\"text-align: right;\">\n",
       "      <th></th>\n",
       "      <th>Date</th>\n",
       "      <th>Time</th>\n",
       "      <th>Global_active_power</th>\n",
       "      <th>Global_reactive_power</th>\n",
       "      <th>Voltage</th>\n",
       "      <th>Global_intensity</th>\n",
       "      <th>Sub_metering_1</th>\n",
       "      <th>Sub_metering_2</th>\n",
       "      <th>Sub_metering_3</th>\n",
       "    </tr>\n",
       "  </thead>\n",
       "  <tbody>\n",
       "    <tr>\n",
       "      <th>0</th>\n",
       "      <td>16/12/2006</td>\n",
       "      <td>17:24:00</td>\n",
       "      <td>4.216</td>\n",
       "      <td>0.418</td>\n",
       "      <td>234.84</td>\n",
       "      <td>18.4</td>\n",
       "      <td>0.0</td>\n",
       "      <td>1.0</td>\n",
       "      <td>17.0</td>\n",
       "    </tr>\n",
       "    <tr>\n",
       "      <th>1</th>\n",
       "      <td>16/12/2006</td>\n",
       "      <td>17:25:00</td>\n",
       "      <td>5.360</td>\n",
       "      <td>0.436</td>\n",
       "      <td>233.63</td>\n",
       "      <td>23.0</td>\n",
       "      <td>0.0</td>\n",
       "      <td>1.0</td>\n",
       "      <td>16.0</td>\n",
       "    </tr>\n",
       "    <tr>\n",
       "      <th>2</th>\n",
       "      <td>16/12/2006</td>\n",
       "      <td>17:26:00</td>\n",
       "      <td>5.374</td>\n",
       "      <td>0.498</td>\n",
       "      <td>233.29</td>\n",
       "      <td>23.0</td>\n",
       "      <td>0.0</td>\n",
       "      <td>2.0</td>\n",
       "      <td>17.0</td>\n",
       "    </tr>\n",
       "    <tr>\n",
       "      <th>3</th>\n",
       "      <td>16/12/2006</td>\n",
       "      <td>17:27:00</td>\n",
       "      <td>5.388</td>\n",
       "      <td>0.502</td>\n",
       "      <td>233.74</td>\n",
       "      <td>23.0</td>\n",
       "      <td>0.0</td>\n",
       "      <td>1.0</td>\n",
       "      <td>17.0</td>\n",
       "    </tr>\n",
       "    <tr>\n",
       "      <th>4</th>\n",
       "      <td>16/12/2006</td>\n",
       "      <td>17:28:00</td>\n",
       "      <td>3.666</td>\n",
       "      <td>0.528</td>\n",
       "      <td>235.68</td>\n",
       "      <td>15.8</td>\n",
       "      <td>0.0</td>\n",
       "      <td>1.0</td>\n",
       "      <td>17.0</td>\n",
       "    </tr>\n",
       "  </tbody>\n",
       "</table>\n",
       "</div>"
      ],
      "text/plain": [
       "         Date      Time  Global_active_power       ...        Sub_metering_1  Sub_metering_2  Sub_metering_3\n",
       "0  16/12/2006  17:24:00                4.216       ...                   0.0             1.0            17.0\n",
       "1  16/12/2006  17:25:00                5.360       ...                   0.0             1.0            16.0\n",
       "2  16/12/2006  17:26:00                5.374       ...                   0.0             2.0            17.0\n",
       "3  16/12/2006  17:27:00                5.388       ...                   0.0             1.0            17.0\n",
       "4  16/12/2006  17:28:00                3.666       ...                   0.0             1.0            17.0\n",
       "\n",
       "[5 rows x 9 columns]"
      ]
     },
     "execution_count": 60,
     "metadata": {},
     "output_type": "execute_result"
    }
   ],
   "source": [
    "df.head()#查看前五行的数据"
   ]
  },
  {
   "cell_type": "code",
   "execution_count": 61,
   "metadata": {},
   "outputs": [
    {
     "name": "stdout",
     "output_type": "stream",
     "text": [
      "<class 'pandas.core.frame.DataFrame'>\n",
      "RangeIndex: 1000 entries, 0 to 999\n",
      "Data columns (total 9 columns):\n",
      "Date                     1000 non-null object\n",
      "Time                     1000 non-null object\n",
      "Global_active_power      1000 non-null float64\n",
      "Global_reactive_power    1000 non-null float64\n",
      "Voltage                  1000 non-null float64\n",
      "Global_intensity         1000 non-null float64\n",
      "Sub_metering_1           1000 non-null float64\n",
      "Sub_metering_2           1000 non-null float64\n",
      "Sub_metering_3           1000 non-null float64\n",
      "dtypes: float64(7), object(2)\n",
      "memory usage: 70.4+ KB\n"
     ]
    }
   ],
   "source": [
    "#查看格式信息\n",
    "df.info()"
   ]
  },
  {
   "cell_type": "code",
   "execution_count": 62,
   "metadata": {},
   "outputs": [
    {
     "data": {
      "text/html": [
       "<div>\n",
       "<style scoped>\n",
       "    .dataframe tbody tr th:only-of-type {\n",
       "        vertical-align: middle;\n",
       "    }\n",
       "\n",
       "    .dataframe tbody tr th {\n",
       "        vertical-align: top;\n",
       "    }\n",
       "\n",
       "    .dataframe thead th {\n",
       "        text-align: right;\n",
       "    }\n",
       "</style>\n",
       "<table border=\"1\" class=\"dataframe\">\n",
       "  <thead>\n",
       "    <tr style=\"text-align: right;\">\n",
       "      <th></th>\n",
       "      <th>Global_active_power</th>\n",
       "      <th>Global_reactive_power</th>\n",
       "      <th>Voltage</th>\n",
       "      <th>Global_intensity</th>\n",
       "      <th>Sub_metering_1</th>\n",
       "      <th>Sub_metering_2</th>\n",
       "      <th>Sub_metering_3</th>\n",
       "    </tr>\n",
       "  </thead>\n",
       "  <tbody>\n",
       "    <tr>\n",
       "      <th>count</th>\n",
       "      <td>1000.000000</td>\n",
       "      <td>1000.000000</td>\n",
       "      <td>1000.00000</td>\n",
       "      <td>1000.000000</td>\n",
       "      <td>1000.0</td>\n",
       "      <td>1000.000000</td>\n",
       "      <td>1000.000000</td>\n",
       "    </tr>\n",
       "    <tr>\n",
       "      <th>mean</th>\n",
       "      <td>2.418772</td>\n",
       "      <td>0.089232</td>\n",
       "      <td>240.03579</td>\n",
       "      <td>10.351000</td>\n",
       "      <td>0.0</td>\n",
       "      <td>2.749000</td>\n",
       "      <td>5.756000</td>\n",
       "    </tr>\n",
       "    <tr>\n",
       "      <th>std</th>\n",
       "      <td>1.239979</td>\n",
       "      <td>0.088088</td>\n",
       "      <td>4.08442</td>\n",
       "      <td>5.122214</td>\n",
       "      <td>0.0</td>\n",
       "      <td>8.104053</td>\n",
       "      <td>8.066941</td>\n",
       "    </tr>\n",
       "    <tr>\n",
       "      <th>min</th>\n",
       "      <td>0.206000</td>\n",
       "      <td>0.000000</td>\n",
       "      <td>230.98000</td>\n",
       "      <td>0.800000</td>\n",
       "      <td>0.0</td>\n",
       "      <td>0.000000</td>\n",
       "      <td>0.000000</td>\n",
       "    </tr>\n",
       "    <tr>\n",
       "      <th>25%</th>\n",
       "      <td>1.806000</td>\n",
       "      <td>0.000000</td>\n",
       "      <td>236.94000</td>\n",
       "      <td>8.400000</td>\n",
       "      <td>0.0</td>\n",
       "      <td>0.000000</td>\n",
       "      <td>0.000000</td>\n",
       "    </tr>\n",
       "    <tr>\n",
       "      <th>50%</th>\n",
       "      <td>2.414000</td>\n",
       "      <td>0.072000</td>\n",
       "      <td>240.65000</td>\n",
       "      <td>10.000000</td>\n",
       "      <td>0.0</td>\n",
       "      <td>0.000000</td>\n",
       "      <td>0.000000</td>\n",
       "    </tr>\n",
       "    <tr>\n",
       "      <th>75%</th>\n",
       "      <td>3.308000</td>\n",
       "      <td>0.126000</td>\n",
       "      <td>243.29500</td>\n",
       "      <td>14.000000</td>\n",
       "      <td>0.0</td>\n",
       "      <td>1.000000</td>\n",
       "      <td>17.000000</td>\n",
       "    </tr>\n",
       "    <tr>\n",
       "      <th>max</th>\n",
       "      <td>7.706000</td>\n",
       "      <td>0.528000</td>\n",
       "      <td>249.37000</td>\n",
       "      <td>33.200000</td>\n",
       "      <td>0.0</td>\n",
       "      <td>38.000000</td>\n",
       "      <td>19.000000</td>\n",
       "    </tr>\n",
       "  </tbody>\n",
       "</table>\n",
       "</div>"
      ],
      "text/plain": [
       "       Global_active_power  Global_reactive_power       ...        Sub_metering_2  Sub_metering_3\n",
       "count          1000.000000            1000.000000       ...           1000.000000     1000.000000\n",
       "mean              2.418772               0.089232       ...              2.749000        5.756000\n",
       "std               1.239979               0.088088       ...              8.104053        8.066941\n",
       "min               0.206000               0.000000       ...              0.000000        0.000000\n",
       "25%               1.806000               0.000000       ...              0.000000        0.000000\n",
       "50%               2.414000               0.072000       ...              0.000000        0.000000\n",
       "75%               3.308000               0.126000       ...              1.000000       17.000000\n",
       "max               7.706000               0.528000       ...             38.000000       19.000000\n",
       "\n",
       "[8 rows x 7 columns]"
      ]
     },
     "execution_count": 62,
     "metadata": {},
     "output_type": "execute_result"
    }
   ],
   "source": [
    "#异常数据的处理（异常数据过滤）\n",
    "new_df = df.replace('?', np.nan) #非法字符'?'转为np.nan\n",
    "datas = new_df.dropna(axis=0, how='any')#只要有一个数据为空，就进行行删除操作\n",
    "datas.describe()"
   ]
  },
  {
   "cell_type": "code",
   "execution_count": 63,
   "metadata": {},
   "outputs": [
    {
     "name": "stdout",
     "output_type": "stream",
     "text": [
      "<class 'pandas.core.frame.DataFrame'>\n",
      "RangeIndex: 1000 entries, 0 to 999\n",
      "Data columns (total 9 columns):\n",
      "Date                     1000 non-null object\n",
      "Time                     1000 non-null object\n",
      "Global_active_power      1000 non-null float64\n",
      "Global_reactive_power    1000 non-null float64\n",
      "Voltage                  1000 non-null float64\n",
      "Global_intensity         1000 non-null float64\n",
      "Sub_metering_1           1000 non-null float64\n",
      "Sub_metering_2           1000 non-null float64\n",
      "Sub_metering_3           1000 non-null float64\n",
      "dtypes: float64(7), object(2)\n",
      "memory usage: 70.4+ KB\n"
     ]
    }
   ],
   "source": [
    "#查看格式信息\n",
    "df.info()"
   ]
  },
  {
   "cell_type": "code",
   "execution_count": 64,
   "metadata": {},
   "outputs": [
    {
     "name": "stdout",
     "output_type": "stream",
     "text": [
      "123 456\n"
     ]
    }
   ],
   "source": [
    "## 创建一个时间函数格式化 字符串\n",
    "print(' '.join(['123','456']))#以空格的间隔，把一个list中的两个字符串连接起来\n",
    "\n",
    "def data_format(dt):\n",
    "    t = time.strptime(' '.join(dt), '%d/%m/%Y %H:%M:%S') #\n",
    "    return (t.tm_year, t.tm_mon, t.tm_mday, t.tm_hour, t.tm_min, t.tm_sec)"
   ]
  },
  {
   "cell_type": "code",
   "execution_count": 65,
   "metadata": {},
   "outputs": [],
   "source": [
    "#获取x和y变量，并将时间转换为数值连续变量\n",
    "X = datas.iloc[:, 0:2]\n",
    "X = X.apply(lambda x : pd.Series(data_format(x)), axis=1)\n",
    "Y = datas['Global_active_power']"
   ]
  },
  {
   "cell_type": "code",
   "execution_count": 66,
   "metadata": {},
   "outputs": [
    {
     "data": {
      "text/html": [
       "<div>\n",
       "<style scoped>\n",
       "    .dataframe tbody tr th:only-of-type {\n",
       "        vertical-align: middle;\n",
       "    }\n",
       "\n",
       "    .dataframe tbody tr th {\n",
       "        vertical-align: top;\n",
       "    }\n",
       "\n",
       "    .dataframe thead th {\n",
       "        text-align: right;\n",
       "    }\n",
       "</style>\n",
       "<table border=\"1\" class=\"dataframe\">\n",
       "  <thead>\n",
       "    <tr style=\"text-align: right;\">\n",
       "      <th></th>\n",
       "      <th>0</th>\n",
       "      <th>1</th>\n",
       "      <th>2</th>\n",
       "      <th>3</th>\n",
       "      <th>4</th>\n",
       "      <th>5</th>\n",
       "    </tr>\n",
       "  </thead>\n",
       "  <tbody>\n",
       "    <tr>\n",
       "      <th>0</th>\n",
       "      <td>2006</td>\n",
       "      <td>12</td>\n",
       "      <td>16</td>\n",
       "      <td>17</td>\n",
       "      <td>24</td>\n",
       "      <td>0</td>\n",
       "    </tr>\n",
       "    <tr>\n",
       "      <th>1</th>\n",
       "      <td>2006</td>\n",
       "      <td>12</td>\n",
       "      <td>16</td>\n",
       "      <td>17</td>\n",
       "      <td>25</td>\n",
       "      <td>0</td>\n",
       "    </tr>\n",
       "  </tbody>\n",
       "</table>\n",
       "</div>"
      ],
      "text/plain": [
       "      0   1   2   3   4  5\n",
       "0  2006  12  16  17  24  0\n",
       "1  2006  12  16  17  25  0"
      ]
     },
     "execution_count": 66,
     "metadata": {},
     "output_type": "execute_result"
    }
   ],
   "source": [
    "X.head(2)"
   ]
  },
  {
   "cell_type": "code",
   "execution_count": 67,
   "metadata": {},
   "outputs": [],
   "source": [
    "## 对数据集进行测试集和训练集的划分\n",
    "# X： 特征矩阵（一般为DataFrame）\n",
    "# Y：特征对应的Label标签（类型一般是Series）\n",
    "# test_size: 对X/Y进行划分的时候，测试集合测试集合的数据占比，是一个（0，1）之间的float类型的值\n",
    "#random_state：数据分割是基于随机器进行分割的，该参数给定随机种子，保证每次分割所产生的数据集是完全相同的\n",
    "X_train, X_test, Y_train, Y_test = train_test_split(X, Y, test_size=0.2, random_state=0)"
   ]
  },
  {
   "cell_type": "code",
   "execution_count": 68,
   "metadata": {},
   "outputs": [
    {
     "name": "stdout",
     "output_type": "stream",
     "text": [
      "(800, 6)\n",
      "(200, 6)\n",
      "(800,)\n"
     ]
    }
   ],
   "source": [
    "print(X_train.shape)\n",
    "print(X_test.shape)\n",
    "print(Y_train.shape)"
   ]
  },
  {
   "cell_type": "code",
   "execution_count": 69,
   "metadata": {},
   "outputs": [
    {
     "data": {
      "text/html": [
       "<div>\n",
       "<style scoped>\n",
       "    .dataframe tbody tr th:only-of-type {\n",
       "        vertical-align: middle;\n",
       "    }\n",
       "\n",
       "    .dataframe tbody tr th {\n",
       "        vertical-align: top;\n",
       "    }\n",
       "\n",
       "    .dataframe thead th {\n",
       "        text-align: right;\n",
       "    }\n",
       "</style>\n",
       "<table border=\"1\" class=\"dataframe\">\n",
       "  <thead>\n",
       "    <tr style=\"text-align: right;\">\n",
       "      <th></th>\n",
       "      <th>count</th>\n",
       "      <th>mean</th>\n",
       "      <th>std</th>\n",
       "      <th>min</th>\n",
       "      <th>25%</th>\n",
       "      <th>50%</th>\n",
       "      <th>75%</th>\n",
       "      <th>max</th>\n",
       "    </tr>\n",
       "  </thead>\n",
       "  <tbody>\n",
       "    <tr>\n",
       "      <th>0</th>\n",
       "      <td>800.0</td>\n",
       "      <td>2006.00000</td>\n",
       "      <td>0.000000</td>\n",
       "      <td>2006.0</td>\n",
       "      <td>2006.0</td>\n",
       "      <td>2006.0</td>\n",
       "      <td>2006.0</td>\n",
       "      <td>2006.0</td>\n",
       "    </tr>\n",
       "    <tr>\n",
       "      <th>1</th>\n",
       "      <td>800.0</td>\n",
       "      <td>12.00000</td>\n",
       "      <td>0.000000</td>\n",
       "      <td>12.0</td>\n",
       "      <td>12.0</td>\n",
       "      <td>12.0</td>\n",
       "      <td>12.0</td>\n",
       "      <td>12.0</td>\n",
       "    </tr>\n",
       "    <tr>\n",
       "      <th>2</th>\n",
       "      <td>800.0</td>\n",
       "      <td>16.59875</td>\n",
       "      <td>0.490458</td>\n",
       "      <td>16.0</td>\n",
       "      <td>16.0</td>\n",
       "      <td>17.0</td>\n",
       "      <td>17.0</td>\n",
       "      <td>17.0</td>\n",
       "    </tr>\n",
       "    <tr>\n",
       "      <th>3</th>\n",
       "      <td>800.0</td>\n",
       "      <td>10.75500</td>\n",
       "      <td>8.068386</td>\n",
       "      <td>0.0</td>\n",
       "      <td>4.0</td>\n",
       "      <td>8.0</td>\n",
       "      <td>19.0</td>\n",
       "      <td>23.0</td>\n",
       "    </tr>\n",
       "    <tr>\n",
       "      <th>4</th>\n",
       "      <td>800.0</td>\n",
       "      <td>29.72375</td>\n",
       "      <td>17.266517</td>\n",
       "      <td>0.0</td>\n",
       "      <td>15.0</td>\n",
       "      <td>30.0</td>\n",
       "      <td>45.0</td>\n",
       "      <td>59.0</td>\n",
       "    </tr>\n",
       "    <tr>\n",
       "      <th>5</th>\n",
       "      <td>800.0</td>\n",
       "      <td>0.00000</td>\n",
       "      <td>0.000000</td>\n",
       "      <td>0.0</td>\n",
       "      <td>0.0</td>\n",
       "      <td>0.0</td>\n",
       "      <td>0.0</td>\n",
       "      <td>0.0</td>\n",
       "    </tr>\n",
       "  </tbody>\n",
       "</table>\n",
       "</div>"
      ],
      "text/plain": [
       "   count        mean        std     min     25%     50%     75%     max\n",
       "0  800.0  2006.00000   0.000000  2006.0  2006.0  2006.0  2006.0  2006.0\n",
       "1  800.0    12.00000   0.000000    12.0    12.0    12.0    12.0    12.0\n",
       "2  800.0    16.59875   0.490458    16.0    16.0    17.0    17.0    17.0\n",
       "3  800.0    10.75500   8.068386     0.0     4.0     8.0    19.0    23.0\n",
       "4  800.0    29.72375  17.266517     0.0    15.0    30.0    45.0    59.0\n",
       "5  800.0     0.00000   0.000000     0.0     0.0     0.0     0.0     0.0"
      ]
     },
     "execution_count": 69,
     "metadata": {},
     "output_type": "execute_result"
    }
   ],
   "source": [
    "X_train.describe().T"
   ]
  },
  {
   "cell_type": "code",
   "execution_count": 70,
   "metadata": {},
   "outputs": [],
   "source": [
    "## 数据标准化\n",
    "# StandardScaler：将数据转换为标准差为1的数据集（有一个数据的映射）\n",
    "# 如果API名字中有fit：那么就有模型训练的含义\n",
    "# 如果API名字中有transform，那么就表示对数据具有转换的含义操作\n",
    "# 如果API中有predict，那么就表示进行数据预测，会有一个预测结果输出\n",
    "ss = StandardScaler()\n",
    "X_train = ss.fit_transform(X_train) # 训练并转换\n",
    "X_test  = ss.transform(X_test) ## 直接使用在模型构建数据上进行一个数据标准化操作"
   ]
  },
  {
   "cell_type": "code",
   "execution_count": 71,
   "metadata": {},
   "outputs": [
    {
     "data": {
      "text/html": [
       "<div>\n",
       "<style scoped>\n",
       "    .dataframe tbody tr th:only-of-type {\n",
       "        vertical-align: middle;\n",
       "    }\n",
       "\n",
       "    .dataframe tbody tr th {\n",
       "        vertical-align: top;\n",
       "    }\n",
       "\n",
       "    .dataframe thead th {\n",
       "        text-align: right;\n",
       "    }\n",
       "</style>\n",
       "<table border=\"1\" class=\"dataframe\">\n",
       "  <thead>\n",
       "    <tr style=\"text-align: right;\">\n",
       "      <th></th>\n",
       "      <th>count</th>\n",
       "      <th>mean</th>\n",
       "      <th>std</th>\n",
       "      <th>min</th>\n",
       "      <th>25%</th>\n",
       "      <th>50%</th>\n",
       "      <th>75%</th>\n",
       "      <th>max</th>\n",
       "    </tr>\n",
       "  </thead>\n",
       "  <tbody>\n",
       "    <tr>\n",
       "      <th>0</th>\n",
       "      <td>800.0</td>\n",
       "      <td>0.000000e+00</td>\n",
       "      <td>0.000000</td>\n",
       "      <td>0.000000</td>\n",
       "      <td>0.000000</td>\n",
       "      <td>0.000000</td>\n",
       "      <td>0.000000</td>\n",
       "      <td>0.000000</td>\n",
       "    </tr>\n",
       "    <tr>\n",
       "      <th>1</th>\n",
       "      <td>800.0</td>\n",
       "      <td>0.000000e+00</td>\n",
       "      <td>0.000000</td>\n",
       "      <td>0.000000</td>\n",
       "      <td>0.000000</td>\n",
       "      <td>0.000000</td>\n",
       "      <td>0.000000</td>\n",
       "      <td>0.000000</td>\n",
       "    </tr>\n",
       "    <tr>\n",
       "      <th>2</th>\n",
       "      <td>800.0</td>\n",
       "      <td>2.050582e-15</td>\n",
       "      <td>1.000626</td>\n",
       "      <td>-1.221561</td>\n",
       "      <td>-1.221561</td>\n",
       "      <td>0.818625</td>\n",
       "      <td>0.818625</td>\n",
       "      <td>0.818625</td>\n",
       "    </tr>\n",
       "    <tr>\n",
       "      <th>3</th>\n",
       "      <td>800.0</td>\n",
       "      <td>-5.107026e-17</td>\n",
       "      <td>1.000626</td>\n",
       "      <td>-1.333814</td>\n",
       "      <td>-0.837742</td>\n",
       "      <td>-0.341670</td>\n",
       "      <td>1.022529</td>\n",
       "      <td>1.518601</td>\n",
       "    </tr>\n",
       "    <tr>\n",
       "      <th>4</th>\n",
       "      <td>800.0</td>\n",
       "      <td>5.329071e-17</td>\n",
       "      <td>1.000626</td>\n",
       "      <td>-1.722545</td>\n",
       "      <td>-0.853268</td>\n",
       "      <td>0.016009</td>\n",
       "      <td>0.885286</td>\n",
       "      <td>1.696611</td>\n",
       "    </tr>\n",
       "    <tr>\n",
       "      <th>5</th>\n",
       "      <td>800.0</td>\n",
       "      <td>0.000000e+00</td>\n",
       "      <td>0.000000</td>\n",
       "      <td>0.000000</td>\n",
       "      <td>0.000000</td>\n",
       "      <td>0.000000</td>\n",
       "      <td>0.000000</td>\n",
       "      <td>0.000000</td>\n",
       "    </tr>\n",
       "  </tbody>\n",
       "</table>\n",
       "</div>"
      ],
      "text/plain": [
       "   count          mean       std       min       25%       50%       75%       max\n",
       "0  800.0  0.000000e+00  0.000000  0.000000  0.000000  0.000000  0.000000  0.000000\n",
       "1  800.0  0.000000e+00  0.000000  0.000000  0.000000  0.000000  0.000000  0.000000\n",
       "2  800.0  2.050582e-15  1.000626 -1.221561 -1.221561  0.818625  0.818625  0.818625\n",
       "3  800.0 -5.107026e-17  1.000626 -1.333814 -0.837742 -0.341670  1.022529  1.518601\n",
       "4  800.0  5.329071e-17  1.000626 -1.722545 -0.853268  0.016009  0.885286  1.696611\n",
       "5  800.0  0.000000e+00  0.000000  0.000000  0.000000  0.000000  0.000000  0.000000"
      ]
     },
     "execution_count": 71,
     "metadata": {},
     "output_type": "execute_result"
    }
   ],
   "source": [
    "DataFrame(X_train).describe().T"
   ]
  },
  {
   "cell_type": "code",
   "execution_count": 72,
   "metadata": {},
   "outputs": [
    {
     "name": "stdout",
     "output_type": "stream",
     "text": [
      "训练集R2： 0.24409311805909026\n",
      "测试集R2： 0.12551628513735824\n",
      "rmse: 1.164092345973625\n"
     ]
    }
   ],
   "source": [
    "## 模型训练\n",
    "lr = LinearRegression()\n",
    "lr.fit(X_train, Y_train) #训练模型\n",
    "## 对测试集数据进行预测\n",
    "y_predict = lr.predict(X_test) ##预测结果\n",
    "\n",
    "print('训练集R2：',lr.score(X_train, Y_train))\n",
    "print('测试集R2：',lr.score(X_test, Y_test))\n",
    "mse = np.average((y_predict -  Y_test)**2) #求误差平方和\n",
    "rmse = np.sqrt(mse)\n",
    "print('rmse:', rmse)"
   ]
  },
  {
   "cell_type": "code",
   "execution_count": 73,
   "metadata": {},
   "outputs": [],
   "source": [
    "## 模型保存与持久化\n",
    "# 在机器学习部署的时候，实际上其中一种方式就是将模型进行输出；另外一种方式就是直接将预测结果输出\n",
    "# 模型输出一般是将模型输出到磁盘文件\n",
    "from sklearn.externals import joblib\n",
    "\n",
    "joblib.dump(ss, 'data_ss.model') ##将标准化模型保存\n",
    "joblib.dump(lr, 'data_lr.model') ## 模型保存\n",
    "\n",
    "ss = joblib.load(\"data_ss.model\")## 加载模型\n",
    "lr = joblib.load(\"data_lr.model\")## 加载模型"
   ]
  },
  {
   "cell_type": "code",
   "execution_count": 74,
   "metadata": {},
   "outputs": [
    {
     "name": "stdout",
     "output_type": "stream",
     "text": [
      "[[ 0.          0.          0.81862454  0.15440249 -0.27374978  0.        ]]\n"
     ]
    },
    {
     "data": {
      "text/plain": [
       "array([1.16996393])"
      ]
     },
     "execution_count": 74,
     "metadata": {},
     "output_type": "execute_result"
    }
   ],
   "source": [
    "# 使用加载模型，对自定义的数据进行预测\n",
    "data1 = [[2006, 12, 17, 12, 25, 0]]\n",
    "data1 = ss.transform(data1)\n",
    "print(data1)\n",
    "lr.predict(data1)"
   ]
  },
  {
   "cell_type": "code",
   "execution_count": 75,
   "metadata": {},
   "outputs": [
    {
     "data": {
      "image/png": "[encoded data removed]",
      "text/plain": [
       "<Figure size 432x288 with 1 Axes>"
      ]
     },
     "metadata": {},
     "output_type": "display_data"
    }
   ],
   "source": [
    "## 预测值和实际值画图比较\n",
    "t = np.arange(len(X_test))\n",
    "plt.figure(facecolor='w')#建一个画布， facecolor是背景色\n",
    "plt.plot(t, Y_test, 'r-', linewidth=2, label='真实值')\n",
    "plt.plot(t, y_predict, 'g-', linewidth=2, label='预测值')\n",
    "plt.legend(loc='upper left')#显示图例，设置图例的位置\n",
    "plt.title(\"线性回归预测时间与功率之间的关系\", fontsize=20)\n",
    "plt.grid(b=True)#加网路\n",
    "plt.show()"
   ]
  },
  {
   "cell_type": "code",
   "execution_count": 80,
   "metadata": {},
   "outputs": [
    {
     "name": "stdout",
     "output_type": "stream",
     "text": [
      "电流预测准确率:  0.9920420609708968\n",
      "电流参数: [5.07744316 0.07191391]\n"
     ]
    },
    {
     "data": {
      "image/png": "[encoded data removed]",
      "text/plain": [
       "<Figure size 432x288 with 1 Axes>"
      ]
     },
     "metadata": {},
     "output_type": "display_data"
    }
   ],
   "source": [
    "## 功率和电流之间的关系\n",
    "X = datas.iloc[:,2:4]\n",
    "Y2 = datas.iloc[:,5]\n",
    "\n",
    "## 数据分割\n",
    "X2_train,X2_test,Y2_train,Y2_test = train_test_split(X, Y2, test_size=0.2, random_state=0)\n",
    "\n",
    "## 数据归一化\n",
    "scaler2 = StandardScaler()\n",
    "X2_train = scaler2.fit_transform(X2_train) # 训练并转换\n",
    "X2_test = scaler2.transform(X2_test) ## 直接使用在模型构建数据上进行一个数据标准化操作 \n",
    "\n",
    "## 模型训练\n",
    "lr2 = LinearRegression()\n",
    "lr2.fit(X2_train, Y2_train) ## 训练模型\n",
    "\n",
    "## 结果预测\n",
    "Y2_predict = lr2.predict(X2_test)\n",
    "\n",
    "## 模型评估\n",
    "print(\"电流预测准确率: \", lr2.score(X2_test,Y2_test))\n",
    "print(\"电流参数:\", lr2.coef_)\n",
    "\n",
    "## 绘制图表\n",
    "#### 电流关系\n",
    "t=np.arange(len(X2_test))\n",
    "plt.figure(facecolor='w')\n",
    "plt.plot(t, Y2_test, 'r-', linewidth=2, label=u'真实值')\n",
    "plt.plot(t, Y2_predict, 'g-', linewidth=2, label=u'预测值')\n",
    "plt.legend(loc = 'lower right')\n",
    "plt.title(u\"线性回归预测功率与电流之间的关系\", fontsize=20)\n",
    "plt.grid(b=True)\n",
    "plt.show()"
   ]
  },
  {
   "cell_type": "code",
   "execution_count": 79,
   "metadata": {},
   "outputs": [
    {
     "name": "stdout",
     "output_type": "stream",
     "text": [
      "   Global_active_power  Global_reactive_power\n",
      "0                4.216                  0.418\n",
      "1                5.360                  0.436\n",
      "2                5.374                  0.498\n",
      "3                5.388                  0.502\n",
      "4                3.666                  0.528\n",
      "0    4.216\n",
      "1    5.360\n",
      "2    5.374\n",
      "3    5.388\n",
      "4    3.666\n",
      "Name: Global_active_power, dtype: float64\n"
     ]
    }
   ],
   "source": [
    "print(X.head())\n",
    "print(Y.head())"
   ]
  },
  {
   "cell_type": "code",
   "execution_count": null,
   "metadata": {},
   "outputs": [],
   "source": []
  }
 ],
 "metadata": {
  "kernelspec": {
   "display_name": "Python 3",
   "language": "python",
   "name": "python3"
  },
  "language_info": {
   "codemirror_mode": {
    "name": "ipython",
    "version": 3
   },
   "file_extension": ".py",
   "mimetype": "text/x-python",
   "name": "python",
   "nbconvert_exporter": "python",
   "pygments_lexer": "ipython3",
   "version": "3.6.0"
  }
 },
 "nbformat": 4,
 "nbformat_minor": 2
}
